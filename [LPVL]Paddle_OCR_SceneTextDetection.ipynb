{
  "nbformat": 4,
  "nbformat_minor": 0,
  "metadata": {
    "colab": {
      "name": "[LPVL]Paddle_OCR_SceneTextDetection.ipynb",
      "provenance": [],
      "collapsed_sections": [],
      "toc_visible": true,
      "include_colab_link": true
    },
    "kernelspec": {
      "name": "python3",
      "display_name": "Python 3"
    },
    "language_info": {
      "name": "python"
    },
    "accelerator": "GPU"
  },
  "cells": [
    {
      "cell_type": "markdown",
      "metadata": {
        "id": "view-in-github",
        "colab_type": "text"
      },
      "source": [
        "<a href=\"https://colab.research.google.com/github/lephuocvinhlinh/-AI_City2021-Scence_Text_Recognition/blob/main/%5BLPVL%5DPaddle_OCR_SceneTextDetection.ipynb\" target=\"_parent\"><img src=\"https://colab.research.google.com/assets/colab-badge.svg\" alt=\"Open In Colab\"/></a>"
      ]
    },
    {
      "cell_type": "markdown",
      "metadata": {
        "id": "uofZRQbU16am"
      },
      "source": [
        "# Nhớ tạo một bản copy trước khi chạy"
      ]
    },
    {
      "cell_type": "code",
      "metadata": {
        "id": "5kFlgarEtxoC",
        "colab": {
          "base_uri": "https://localhost:8080/"
        },
        "outputId": "a833cb3f-65d2-4920-9e19-018d6b0b1495"
      },
      "source": [
        "!nvidia-smi"
      ],
      "execution_count": null,
      "outputs": [
        {
          "output_type": "stream",
          "text": [
            "Fri Aug 13 00:58:26 2021       \n",
            "+-----------------------------------------------------------------------------+\n",
            "| NVIDIA-SMI 470.42.01    Driver Version: 460.32.03    CUDA Version: 11.2     |\n",
            "|-------------------------------+----------------------+----------------------+\n",
            "| GPU  Name        Persistence-M| Bus-Id        Disp.A | Volatile Uncorr. ECC |\n",
            "| Fan  Temp  Perf  Pwr:Usage/Cap|         Memory-Usage | GPU-Util  Compute M. |\n",
            "|                               |                      |               MIG M. |\n",
            "|===============================+======================+======================|\n",
            "|   0  Tesla T4            Off  | 00000000:00:04.0 Off |                    0 |\n",
            "| N/A   48C    P8     9W /  70W |      0MiB / 15109MiB |      0%      Default |\n",
            "|                               |                      |                  N/A |\n",
            "+-------------------------------+----------------------+----------------------+\n",
            "                                                                               \n",
            "+-----------------------------------------------------------------------------+\n",
            "| Processes:                                                                  |\n",
            "|  GPU   GI   CI        PID   Type   Process name                  GPU Memory |\n",
            "|        ID   ID                                                   Usage      |\n",
            "|=============================================================================|\n",
            "|  No running processes found                                                 |\n",
            "+-----------------------------------------------------------------------------+\n"
          ],
          "name": "stdout"
        }
      ]
    },
    {
      "cell_type": "markdown",
      "metadata": {
        "id": "bhkgJwL9feLw"
      },
      "source": [
        "# Clone source code và set-up tài nguyên"
      ]
    },
    {
      "cell_type": "markdown",
      "metadata": {
        "id": "8WbJ-qgKbYcb"
      },
      "source": [
        "## Git clone và setup môi trường"
      ]
    },
    {
      "cell_type": "code",
      "metadata": {
        "id": "tsQbQMJcWPOT"
      },
      "source": [
        "# Cài đặt paddlepaddle-gpu\n",
        "!python3 -m pip install paddlepaddle-gpu==2.1.1 -f https://paddlepaddle.org.cn/whl/mkl/stable.html"
      ],
      "execution_count": null,
      "outputs": []
    },
    {
      "cell_type": "code",
      "metadata": {
        "id": "wLzq4_FMbcyD"
      },
      "source": [
        "# Clone source code\n",
        "%cd /content/\n",
        "!git clone https://github.com/thanhnhan311201/PaddleOCR.git"
      ],
      "execution_count": null,
      "outputs": []
    },
    {
      "cell_type": "code",
      "metadata": {
        "id": "-yiZstQ8c-3Y"
      },
      "source": [
        "# Cài đặt các thư viện cần thiết\n",
        "%cd /content/PaddleOCR\n",
        "!python3 -m pip install -r requirements.txt"
      ],
      "execution_count": null,
      "outputs": []
    },
    {
      "cell_type": "markdown",
      "metadata": {
        "id": "eCyKk0AueJir"
      },
      "source": [
        "## Tải pretrain_models"
      ]
    },
    {
      "cell_type": "code",
      "metadata": {
        "id": "e7p7iN8rtbQa"
      },
      "source": [
        "# Tạo thư mục để chứa pretrain model\n",
        "%cd /content/PaddleOCR/\n",
        "!mkdir pretrain_models"
      ],
      "execution_count": null,
      "outputs": []
    },
    {
      "cell_type": "code",
      "metadata": {
        "id": "TyFomtZWeaxa"
      },
      "source": [
        "# Tải pretrain model\n",
        "%cd /content/PaddleOCR/pretrain_models/\n",
        "!wget -c https://paddleocr.bj.bcebos.com/dygraph_v2.0/en/det_r50_vd_sast_icdar15_v2.0_train.tar"
      ],
      "execution_count": null,
      "outputs": []
    },
    {
      "cell_type": "code",
      "metadata": {
        "id": "q9bbebsmbmSE"
      },
      "source": [
        "# Giải nén pretrain model\n",
        "%cd /content/PaddleOCR/pretrain_models/\n",
        "!tar -xf det_r50_vd_sast_icdar15_v2.0_train.tar"
      ],
      "execution_count": null,
      "outputs": []
    },
    {
      "cell_type": "markdown",
      "metadata": {
        "id": "5Z686uekOd-7"
      },
      "source": [
        "# Chuẩn bị train_data và eval_data"
      ]
    },
    {
      "cell_type": "code",
      "metadata": {
        "id": "E_7-mAxqrB6g"
      },
      "source": [
        "# Tải bộ data train và eval đã được chuẩn bị sẵn\n",
        "%cd /content/PaddleOCR/\n",
        "!gdown --id 1HpdyKFIHSNLJMxxbFcqNarGhrXDc7jb7 -O train_data.zip\n",
        "!gdown --id 11dAAt66pKh3jGAig3t31PGXvnCAo4jyV -O eval_data.zip"
      ],
      "execution_count": null,
      "outputs": []
    },
    {
      "cell_type": "code",
      "metadata": {
        "id": "WwEznwASQJNZ"
      },
      "source": [
        "# Giải nén data train và eval\n",
        "%cd /content/PaddleOCR/\n",
        "!unzip train_data.zip\n",
        "!unzip eval_data.zip"
      ],
      "execution_count": null,
      "outputs": []
    },
    {
      "cell_type": "markdown",
      "metadata": {
        "id": "Hy5GcCMWh0ed"
      },
      "source": [
        "## Tải checkpoint"
      ]
    },
    {
      "cell_type": "code",
      "metadata": {
        "id": "0wivzIlPt_dL"
      },
      "source": [
        "# Tạo thư mục để chứa file checkpoints\n",
        "%cd /content/PaddleOCR/\n",
        "!mkdir output/\n",
        "%cd output/\n",
        "!mkdir sast_r50_vd_ic15"
      ],
      "execution_count": null,
      "outputs": []
    },
    {
      "cell_type": "code",
      "metadata": {
        "id": "Mzyrd1Eph5ro"
      },
      "source": [
        "# Tải về file checkpoints\n",
        "%cd /content/PaddleOCR/output/sast_r50_vd_ic15/\n",
        "!gdown --id 1DNlyY-zL_2aLk4YjKDnDcgpzfblLZ285\n",
        "!gdown --id 1DNHkzyse-z5q1yKhFgMO6PzN4ey5O6ea\n",
        "!gdown --id 1DQsI3xqkpXrMb0N1BlMcWDGWECFINAqi"
      ],
      "execution_count": null,
      "outputs": []
    },
    {
      "cell_type": "markdown",
      "metadata": {
        "id": "uonlTC_SpMcw"
      },
      "source": [
        "# Train"
      ]
    },
    {
      "cell_type": "code",
      "metadata": {
        "id": "XkGZ2lT2hupo"
      },
      "source": [
        "%cd /content/PaddleOCR/\n",
        "# Nếu muốn train từ checkpoints đã train thì thêm vào: -o Global.checkpoints=./output/sast_r50_vd_ic15/best_accuracy , mặc định trong file config là train từ best_accuracy của pretrain model\n",
        "# Nếu muốn thay đổi bộ dữ liệu train và eval thì vô file config trong folder configs/det/det_r50_vd_sast_icdar15_fixed.yml, sửa lại path trong data_dir và label_file_list của phần Train và Eval\n",
        "!python tools/train.py -c configs/det/det_r50_vd_sast_icdar15_fixed.yml -o Optimizer.base_lr=0.0001"
      ],
      "execution_count": null,
      "outputs": []
    },
    {
      "cell_type": "markdown",
      "metadata": {
        "id": "MQg8zwj8GQbC"
      },
      "source": [
        "# Test"
      ]
    },
    {
      "cell_type": "markdown",
      "metadata": {
        "id": "94aYpcv0hYVp"
      },
      "source": [
        "## Tải test data"
      ]
    },
    {
      "cell_type": "code",
      "metadata": {
        "id": "IywgaBG-hXTG"
      },
      "source": [
        "# Tải về data public_test\n",
        "%cd /content/PaddleOCR/\n",
        "!gdown --id 1t_Lb4jVpIDPdyvgSds9lcl62UC8xbaM5 -O public_test.zip\n",
        "!unzip public_test.zip"
      ],
      "execution_count": null,
      "outputs": []
    },
    {
      "cell_type": "markdown",
      "metadata": {
        "id": "OyTurGUQh6kH"
      },
      "source": [
        "## Test"
      ]
    },
    {
      "cell_type": "code",
      "metadata": {
        "id": "CJZP5yI9-1iW"
      },
      "source": [
        "%cd /content/PaddleOCR/\n",
        "!python3 tools/export_model.py -c configs/det/det_r50_vd_sast_icdar15_fixed.yml \\\n",
        "       -o Global.checkpoints=/content/PaddleOCR/output/sast_r50_vd_ic15/best_accuracy \\\n",
        "       Global.save_inference_dir=/content/PaddleOCR/inference/sast_r50_vd_ic15/"
      ],
      "execution_count": null,
      "outputs": []
    },
    {
      "cell_type": "code",
      "metadata": {
        "id": "7VwTXpchAQiT"
      },
      "source": [
        "%cd /content/PaddleOCR/\n",
        "# Nếu muốn thay đổi bộ dữ liệu test thì sửa lại path ở --image_dir tới folder dữ liệu test\n",
        "!python3 tools/infer/predict_det_fixed.py --det_algorithm=\"SAST\" \\\n",
        "  --image_dir=/content/PaddleOCR/public_test/ \\\n",
        "  --det_model_dir=/content/PaddleOCR/inference/sast_r50_vd_ic15/"
      ],
      "execution_count": null,
      "outputs": []
    },
    {
      "cell_type": "markdown",
      "metadata": {
        "id": "XilM_SlKiA2r"
      },
      "source": [
        "## Chuyển định dạng file submit"
      ]
    },
    {
      "cell_type": "code",
      "metadata": {
        "id": "FD5zhbn-HPrB"
      },
      "source": [
        "import os\n",
        "%cd /content/PaddleOCR/inference_results/\n",
        "directory = os.listdir('/content/PaddleOCR/inference_results/')\n",
        "count = 0\n",
        "text_file = open(\"aaaa.txt\",\"a\")\n",
        "for file in directory:\n",
        "\tif file.endswith(\".txt\"):\n",
        "\t\tcount = count + 1\n",
        "\t\twith open(file) as f:\n",
        "\t\t\tcontent = f.readlines()\n",
        "\t# you may also want to remove whitespace characters like `\\n` at the end of each line\n",
        "\t\tcontent = [x.strip() for x in content] \n",
        "\t\tfor i in range(len(content)) :\n",
        "\t\t\ttext_file.write(\"{0},{1}\\n\".format(file,content[i]))\n",
        "   \n",
        "print(count)"
      ],
      "execution_count": null,
      "outputs": []
    },
    {
      "cell_type": "code",
      "metadata": {
        "id": "H_X0nW73khRi"
      },
      "source": [
        "# Tạo folder result để chứa file submission\n",
        "%cd /content/PaddleOCR/\n",
        "!mkdir result"
      ],
      "execution_count": null,
      "outputs": []
    },
    {
      "cell_type": "code",
      "metadata": {
        "id": "MlFQJZgzHSNI"
      },
      "source": [
        "%cd /content/PaddleOCR/result/\n",
        "with open('/content/PaddleOCR/inference_results/aaaa.txt') as f:\n",
        "  contents = f.readlines()\n",
        "# you may also want to remove whitespace characters like `\\n` at the end of each line\n",
        "contents = [x.strip() for x in contents] \n",
        "\n",
        "for i in range(len(contents)):\n",
        "  line = contents[i].split(',')\n",
        "  file_name = line[0]\n",
        "  line[0] = file_name[4:-4] + \".jpg\"\n",
        "  text_file = open('test.txt', \"a\")\n",
        "  text_file.write(\"{0},{1},{2},{3},{4},{5},{6},{7},{8}\\n\".format(line[0],line[1],line[2],line[3],line[4],line[5],line[6],line[7],line[8]))\n",
        "\n",
        "# Sau khi chạy xong đoạn code này thì file submission nằm trong folder result mới tạo"
      ],
      "execution_count": null,
      "outputs": []
    },
    {
      "cell_type": "markdown",
      "metadata": {
        "id": "Ap6zJ35gHVyO"
      },
      "source": [
        "# Submission"
      ]
    },
    {
      "cell_type": "code",
      "metadata": {
        "id": "V1LCV-sxHXoW"
      },
      "source": [
        "import math, requests\n",
        "\n",
        "def submit_prediction(df, comment='', **kwargs):\n",
        "    TOKEN='f9f0fe020c715fcc74d65e919507405f1ff39dddfd93556c23513e77abb5b6dbe478fc7a6d00f2fc78f1b138fd0f9338b4e485db6e7406c02954bc92e2c7b0a2'\n",
        "    URL='http://submission.mmlab.uit.edu.vn/api/submissions'\n",
        "    r = requests.post(URL, headers={'Authorization': 'Bearer {}'.format(TOKEN)},files={'datafile': open(df, 'rb')},data={'comment':comment})\n",
        "    if r.status_code == 429:\n",
        "        raise Exception('Submissions are too close. Next submission is only allowed in {} seconds.'.format(int(math.ceil(int(r.headers['x-rate-limit-remaining']) / 1000.0))))\n",
        "    if r.status_code != 200:\n",
        "        raise Exception(r.text)\n",
        "        \n",
        "submit_prediction('/content/PaddleOCR/result/test.txt', comment='my submission')"
      ],
      "execution_count": null,
      "outputs": []
    }
  ]
}